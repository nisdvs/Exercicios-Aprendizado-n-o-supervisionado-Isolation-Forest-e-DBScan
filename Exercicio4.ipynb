{
 "cells": [
  {
   "cell_type": "code",
   "execution_count": 6,
   "metadata": {},
   "outputs": [],
   "source": [
    "import pandas as pd\n",
    "\n",
    "data = {\n",
    "    'Leucócitos': [2000, 4000, 5000, 6500],\n",
    "    'Plaquetas': [100000, 20000, 80000, 145000],\n",
    "    'Linfócitos': [2.3, 4.5, 6, 4.4]\n",
    "}\n",
    "\n",
    "hemogram_data = pd.DataFrame(data)\n"
   ]
  },
  {
   "cell_type": "code",
   "execution_count": 7,
   "metadata": {},
   "outputs": [
    {
     "name": "stdout",
     "output_type": "stream",
     "text": [
      "   Leucócitos  Plaquetas  Linfócitos  Anomalia\n",
      "0        2000     100000         2.3        -1\n"
     ]
    }
   ],
   "source": [
    "from sklearn.ensemble import IsolationForest\n",
    "\n",
    "\n",
    "iso_forest = IsolationForest(contamination=0.05)  \n",
    "\n",
    "\n",
    "iso_forest.fit(hemogram_data)\n",
    "\n",
    "\n",
    "anomaly_predictions = iso_forest.predict(hemogram_data)\n",
    "\n",
    "\n",
    "hemogram_data['Anomalia'] = anomaly_predictions\n",
    "\n",
    "\n",
    "anomalous_patients = hemogram_data[hemogram_data['Anomalia'] == -1]\n",
    "print(anomalous_patients)\n"
   ]
  }
 ],
 "metadata": {
  "kernelspec": {
   "display_name": "Python 3",
   "language": "python",
   "name": "python3"
  },
  "language_info": {
   "codemirror_mode": {
    "name": "ipython",
    "version": 3
   },
   "file_extension": ".py",
   "mimetype": "text/x-python",
   "name": "python",
   "nbconvert_exporter": "python",
   "pygments_lexer": "ipython3",
   "version": "3.11.4"
  }
 },
 "nbformat": 4,
 "nbformat_minor": 2
}
